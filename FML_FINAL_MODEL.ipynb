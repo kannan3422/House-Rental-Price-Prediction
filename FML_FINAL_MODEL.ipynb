{
  "nbformat": 4,
  "nbformat_minor": 0,
  "metadata": {
    "colab": {
      "provenance": []
    },
    "kernelspec": {
      "name": "python3",
      "display_name": "Python 3"
    },
    "language_info": {
      "name": "python"
    }
  },
  "cells": [
    {
      "cell_type": "code",
      "execution_count": null,
      "metadata": {
        "id": "2LVsuWDhuKXX"
      },
      "outputs": [],
      "source": [
        "import pandas as pd\n",
        "import numpy as np\n",
        "import seaborn as sns\n",
        "import matplotlib.pyplot as plt\n",
        "from sklearn import preprocessing\n",
        "from sklearn.model_selection import train_test_split,cross_val_score\n",
        "from sklearn import metrics\n",
        "from sklearn.linear_model import LinearRegression\n",
        "from sklearn.tree import DecisionTreeRegressor\n",
        "from sklearn.ensemble import RandomForestRegressor, GradientBoostingRegressor\n",
        "from sklearn.metrics import r2_score, mean_absolute_error, mean_squared_error"
      ]
    },
    {
      "cell_type": "code",
      "source": [
        "df = pd.read_csv('/content/_All_Cities_Cleaned.csv')\n",
        "df.head()"
      ],
      "metadata": {
        "colab": {
          "base_uri": "https://localhost:8080/",
          "height": 206
        },
        "id": "bDXgw3lFwwm7",
        "outputId": "c18ade84-1243-424f-fadc-65d0816a0378"
      },
      "execution_count": null,
      "outputs": [
        {
          "output_type": "execute_result",
          "data": {
            "text/plain": [
              "  seller_type  bedroom layout_type      property_type  \\\n",
              "0       OWNER        2         BHK  Independent Floor   \n",
              "1       OWNER        2         BHK  Independent House   \n",
              "2       OWNER        2         BHK  Independent House   \n",
              "3       OWNER        1         BHK          Apartment   \n",
              "4       OWNER        3         BHK          Apartment   \n",
              "\n",
              "                   locality  price  area    furnish_type  bathroom       city  \n",
              "0             kamakshipalya  20000  1140  Semi-Furnished         2  Bangalore  \n",
              "1  Kadugodi Industrial Area   8000   840  Semi-Furnished         2  Bangalore  \n",
              "2               Koramangala  21000  1000  Semi-Furnished         2  Bangalore  \n",
              "3           Sadduguntepalya   9000   550  Semi-Furnished         1  Bangalore  \n",
              "4                Chandapura  17000  1230       Furnished         3  Bangalore  "
            ],
            "text/html": [
              "\n",
              "  <div id=\"df-4d753c3d-d981-4224-a54f-e614b8e3a740\">\n",
              "    <div class=\"colab-df-container\">\n",
              "      <div>\n",
              "<style scoped>\n",
              "    .dataframe tbody tr th:only-of-type {\n",
              "        vertical-align: middle;\n",
              "    }\n",
              "\n",
              "    .dataframe tbody tr th {\n",
              "        vertical-align: top;\n",
              "    }\n",
              "\n",
              "    .dataframe thead th {\n",
              "        text-align: right;\n",
              "    }\n",
              "</style>\n",
              "<table border=\"1\" class=\"dataframe\">\n",
              "  <thead>\n",
              "    <tr style=\"text-align: right;\">\n",
              "      <th></th>\n",
              "      <th>seller_type</th>\n",
              "      <th>bedroom</th>\n",
              "      <th>layout_type</th>\n",
              "      <th>property_type</th>\n",
              "      <th>locality</th>\n",
              "      <th>price</th>\n",
              "      <th>area</th>\n",
              "      <th>furnish_type</th>\n",
              "      <th>bathroom</th>\n",
              "      <th>city</th>\n",
              "    </tr>\n",
              "  </thead>\n",
              "  <tbody>\n",
              "    <tr>\n",
              "      <th>0</th>\n",
              "      <td>OWNER</td>\n",
              "      <td>2</td>\n",
              "      <td>BHK</td>\n",
              "      <td>Independent Floor</td>\n",
              "      <td>kamakshipalya</td>\n",
              "      <td>20000</td>\n",
              "      <td>1140</td>\n",
              "      <td>Semi-Furnished</td>\n",
              "      <td>2</td>\n",
              "      <td>Bangalore</td>\n",
              "    </tr>\n",
              "    <tr>\n",
              "      <th>1</th>\n",
              "      <td>OWNER</td>\n",
              "      <td>2</td>\n",
              "      <td>BHK</td>\n",
              "      <td>Independent House</td>\n",
              "      <td>Kadugodi Industrial Area</td>\n",
              "      <td>8000</td>\n",
              "      <td>840</td>\n",
              "      <td>Semi-Furnished</td>\n",
              "      <td>2</td>\n",
              "      <td>Bangalore</td>\n",
              "    </tr>\n",
              "    <tr>\n",
              "      <th>2</th>\n",
              "      <td>OWNER</td>\n",
              "      <td>2</td>\n",
              "      <td>BHK</td>\n",
              "      <td>Independent House</td>\n",
              "      <td>Koramangala</td>\n",
              "      <td>21000</td>\n",
              "      <td>1000</td>\n",
              "      <td>Semi-Furnished</td>\n",
              "      <td>2</td>\n",
              "      <td>Bangalore</td>\n",
              "    </tr>\n",
              "    <tr>\n",
              "      <th>3</th>\n",
              "      <td>OWNER</td>\n",
              "      <td>1</td>\n",
              "      <td>BHK</td>\n",
              "      <td>Apartment</td>\n",
              "      <td>Sadduguntepalya</td>\n",
              "      <td>9000</td>\n",
              "      <td>550</td>\n",
              "      <td>Semi-Furnished</td>\n",
              "      <td>1</td>\n",
              "      <td>Bangalore</td>\n",
              "    </tr>\n",
              "    <tr>\n",
              "      <th>4</th>\n",
              "      <td>OWNER</td>\n",
              "      <td>3</td>\n",
              "      <td>BHK</td>\n",
              "      <td>Apartment</td>\n",
              "      <td>Chandapura</td>\n",
              "      <td>17000</td>\n",
              "      <td>1230</td>\n",
              "      <td>Furnished</td>\n",
              "      <td>3</td>\n",
              "      <td>Bangalore</td>\n",
              "    </tr>\n",
              "  </tbody>\n",
              "</table>\n",
              "</div>\n",
              "      <button class=\"colab-df-convert\" onclick=\"convertToInteractive('df-4d753c3d-d981-4224-a54f-e614b8e3a740')\"\n",
              "              title=\"Convert this dataframe to an interactive table.\"\n",
              "              style=\"display:none;\">\n",
              "        \n",
              "  <svg xmlns=\"http://www.w3.org/2000/svg\" height=\"24px\"viewBox=\"0 0 24 24\"\n",
              "       width=\"24px\">\n",
              "    <path d=\"M0 0h24v24H0V0z\" fill=\"none\"/>\n",
              "    <path d=\"M18.56 5.44l.94 2.06.94-2.06 2.06-.94-2.06-.94-.94-2.06-.94 2.06-2.06.94zm-11 1L8.5 8.5l.94-2.06 2.06-.94-2.06-.94L8.5 2.5l-.94 2.06-2.06.94zm10 10l.94 2.06.94-2.06 2.06-.94-2.06-.94-.94-2.06-.94 2.06-2.06.94z\"/><path d=\"M17.41 7.96l-1.37-1.37c-.4-.4-.92-.59-1.43-.59-.52 0-1.04.2-1.43.59L10.3 9.45l-7.72 7.72c-.78.78-.78 2.05 0 2.83L4 21.41c.39.39.9.59 1.41.59.51 0 1.02-.2 1.41-.59l7.78-7.78 2.81-2.81c.8-.78.8-2.07 0-2.86zM5.41 20L4 18.59l7.72-7.72 1.47 1.35L5.41 20z\"/>\n",
              "  </svg>\n",
              "      </button>\n",
              "      \n",
              "  <style>\n",
              "    .colab-df-container {\n",
              "      display:flex;\n",
              "      flex-wrap:wrap;\n",
              "      gap: 12px;\n",
              "    }\n",
              "\n",
              "    .colab-df-convert {\n",
              "      background-color: #E8F0FE;\n",
              "      border: none;\n",
              "      border-radius: 50%;\n",
              "      cursor: pointer;\n",
              "      display: none;\n",
              "      fill: #1967D2;\n",
              "      height: 32px;\n",
              "      padding: 0 0 0 0;\n",
              "      width: 32px;\n",
              "    }\n",
              "\n",
              "    .colab-df-convert:hover {\n",
              "      background-color: #E2EBFA;\n",
              "      box-shadow: 0px 1px 2px rgba(60, 64, 67, 0.3), 0px 1px 3px 1px rgba(60, 64, 67, 0.15);\n",
              "      fill: #174EA6;\n",
              "    }\n",
              "\n",
              "    [theme=dark] .colab-df-convert {\n",
              "      background-color: #3B4455;\n",
              "      fill: #D2E3FC;\n",
              "    }\n",
              "\n",
              "    [theme=dark] .colab-df-convert:hover {\n",
              "      background-color: #434B5C;\n",
              "      box-shadow: 0px 1px 3px 1px rgba(0, 0, 0, 0.15);\n",
              "      filter: drop-shadow(0px 1px 2px rgba(0, 0, 0, 0.3));\n",
              "      fill: #FFFFFF;\n",
              "    }\n",
              "  </style>\n",
              "\n",
              "      <script>\n",
              "        const buttonEl =\n",
              "          document.querySelector('#df-4d753c3d-d981-4224-a54f-e614b8e3a740 button.colab-df-convert');\n",
              "        buttonEl.style.display =\n",
              "          google.colab.kernel.accessAllowed ? 'block' : 'none';\n",
              "\n",
              "        async function convertToInteractive(key) {\n",
              "          const element = document.querySelector('#df-4d753c3d-d981-4224-a54f-e614b8e3a740');\n",
              "          const dataTable =\n",
              "            await google.colab.kernel.invokeFunction('convertToInteractive',\n",
              "                                                     [key], {});\n",
              "          if (!dataTable) return;\n",
              "\n",
              "          const docLinkHtml = 'Like what you see? Visit the ' +\n",
              "            '<a target=\"_blank\" href=https://colab.research.google.com/notebooks/data_table.ipynb>data table notebook</a>'\n",
              "            + ' to learn more about interactive tables.';\n",
              "          element.innerHTML = '';\n",
              "          dataTable['output_type'] = 'display_data';\n",
              "          await google.colab.output.renderOutput(dataTable, element);\n",
              "          const docLink = document.createElement('div');\n",
              "          docLink.innerHTML = docLinkHtml;\n",
              "          element.appendChild(docLink);\n",
              "        }\n",
              "      </script>\n",
              "    </div>\n",
              "  </div>\n",
              "  "
            ]
          },
          "metadata": {},
          "execution_count": 5
        }
      ]
    },
    {
      "cell_type": "code",
      "source": [
        "df.shape"
      ],
      "metadata": {
        "colab": {
          "base_uri": "https://localhost:8080/"
        },
        "id": "sGsHV3FPwzdT",
        "outputId": "30138452-9bdc-4fbc-9b7d-12ad5cacfe14"
      },
      "execution_count": null,
      "outputs": [
        {
          "output_type": "execute_result",
          "data": {
            "text/plain": [
              "(31730, 10)"
            ]
          },
          "metadata": {},
          "execution_count": 6
        }
      ]
    },
    {
      "cell_type": "code",
      "source": [
        "df.drop_duplicates(inplace = True)"
      ],
      "metadata": {
        "id": "KjfEB820w03y"
      },
      "execution_count": null,
      "outputs": []
    },
    {
      "cell_type": "code",
      "source": [
        "df.info()"
      ],
      "metadata": {
        "colab": {
          "base_uri": "https://localhost:8080/"
        },
        "id": "J3eWhOpFw00R",
        "outputId": "f6c6c388-7156-4425-c25e-fe9cd297b405"
      },
      "execution_count": null,
      "outputs": [
        {
          "output_type": "stream",
          "name": "stdout",
          "text": [
            "<class 'pandas.core.frame.DataFrame'>\n",
            "Int64Index: 20166 entries, 0 to 31729\n",
            "Data columns (total 10 columns):\n",
            " #   Column         Non-Null Count  Dtype \n",
            "---  ------         --------------  ----- \n",
            " 0   seller_type    20166 non-null  object\n",
            " 1   bedroom        20166 non-null  int64 \n",
            " 2   layout_type    20166 non-null  object\n",
            " 3   property_type  20166 non-null  object\n",
            " 4   locality       20166 non-null  object\n",
            " 5   price          20166 non-null  int64 \n",
            " 6   area           20166 non-null  int64 \n",
            " 7   furnish_type   20166 non-null  object\n",
            " 8   bathroom       20166 non-null  int64 \n",
            " 9   city           20166 non-null  object\n",
            "dtypes: int64(4), object(6)\n",
            "memory usage: 1.7+ MB\n"
          ]
        }
      ]
    },
    {
      "cell_type": "code",
      "source": [
        "df[\"price\"]=np.log(df[\"price\"])\n",
        "df[\"area\"]=np.log(df[\"area\"])"
      ],
      "metadata": {
        "id": "gjrgWh8gw66d"
      },
      "execution_count": null,
      "outputs": []
    },
    {
      "cell_type": "code",
      "source": [
        "sns.kdeplot(df[\"price\"])"
      ],
      "metadata": {
        "colab": {
          "base_uri": "https://localhost:8080/",
          "height": 298
        },
        "id": "l-10wVHDw_Zd",
        "outputId": "b0c5617d-0208-4c1e-b439-64e948f627eb"
      },
      "execution_count": null,
      "outputs": [
        {
          "output_type": "execute_result",
          "data": {
            "text/plain": [
              "<matplotlib.axes._subplots.AxesSubplot at 0x7f05553e6760>"
            ]
          },
          "metadata": {},
          "execution_count": 10
        },
        {
          "output_type": "display_data",
          "data": {
            "text/plain": [
              "<Figure size 432x288 with 1 Axes>"
            ],
            "image/png": "[encoded data removed]"
          },
          "metadata": {
            "needs_background": "light"
          }
        }
      ]
    },
    {
      "cell_type": "code",
      "source": [
        "\n",
        "label_encoder = preprocessing.LabelEncoder()\n",
        "df['seller_type']= label_encoder.fit_transform(df['seller_type'])\n",
        "df['seller_type'].unique()\n"
      ],
      "metadata": {
        "colab": {
          "base_uri": "https://localhost:8080/"
        },
        "id": "TKpXBxtkxA31",
        "outputId": "814e579d-a61c-42ca-c08d-e4aeccc4e960"
      },
      "execution_count": null,
      "outputs": [
        {
          "output_type": "execute_result",
          "data": {
            "text/plain": [
              "array([2, 0, 1])"
            ]
          },
          "metadata": {},
          "execution_count": 11
        }
      ]
    },
    {
      "cell_type": "code",
      "source": [
        "df['layout_type']= label_encoder.fit_transform(df['layout_type'])\n",
        "df['layout_type'].unique()"
      ],
      "metadata": {
        "colab": {
          "base_uri": "https://localhost:8080/"
        },
        "id": "Xy14qt9gxE_G",
        "outputId": "9e73adad-1614-434f-9385-4321b7f5a3af"
      },
      "execution_count": null,
      "outputs": [
        {
          "output_type": "execute_result",
          "data": {
            "text/plain": [
              "array([0, 1])"
            ]
          },
          "metadata": {},
          "execution_count": 12
        }
      ]
    },
    {
      "cell_type": "code",
      "source": [
        "df['property_type']= label_encoder.fit_transform(df['property_type'])\n",
        "df['property_type'].unique()"
      ],
      "metadata": {
        "colab": {
          "base_uri": "https://localhost:8080/"
        },
        "id": "HN0Q_W3-xJZy",
        "outputId": "0c58dd08-7568-4ff4-eec2-a70bcbdd2735"
      },
      "execution_count": null,
      "outputs": [
        {
          "output_type": "execute_result",
          "data": {
            "text/plain": [
              "array([1, 2, 0, 4, 5, 3])"
            ]
          },
          "metadata": {},
          "execution_count": 13
        }
      ]
    },
    {
      "cell_type": "code",
      "source": [
        "df['furnish_type']= label_encoder.fit_transform(df['furnish_type'])\n",
        "df['furnish_type'].unique()"
      ],
      "metadata": {
        "colab": {
          "base_uri": "https://localhost:8080/"
        },
        "id": "Z9sRbLCExKna",
        "outputId": "ef4b0dbc-a53d-4bf6-e883-df478e2d3ff4"
      },
      "execution_count": null,
      "outputs": [
        {
          "output_type": "execute_result",
          "data": {
            "text/plain": [
              "array([1, 0, 2])"
            ]
          },
          "metadata": {},
          "execution_count": 14
        }
      ]
    },
    {
      "cell_type": "code",
      "source": [
        "df['city']= label_encoder.fit_transform(df['city'])\n",
        "df['city'].unique()"
      ],
      "metadata": {
        "colab": {
          "base_uri": "https://localhost:8080/"
        },
        "id": "u2qt80vMxNQT",
        "outputId": "52857c9b-8be8-48ee-eff3-da91de13c81f"
      },
      "execution_count": null,
      "outputs": [
        {
          "output_type": "execute_result",
          "data": {
            "text/plain": [
              "array([0, 1])"
            ]
          },
          "metadata": {},
          "execution_count": 15
        }
      ]
    },
    {
      "cell_type": "code",
      "source": [
        "df.drop(\"locality\",axis=1,inplace=True)"
      ],
      "metadata": {
        "id": "AWGoOUrIxUX8"
      },
      "execution_count": null,
      "outputs": []
    },
    {
      "cell_type": "code",
      "source": [
        "X=df.drop(\"price\",axis=1)\n",
        "y=df[\"price\"]"
      ],
      "metadata": {
        "id": "t0bTz8rSxXd_"
      },
      "execution_count": null,
      "outputs": []
    },
    {
      "cell_type": "code",
      "source": [
        "from sklearn.model_selection import train_test_split\n",
        "X_train,X_test,y_train,y_test=train_test_split(X,y,test_size=0.2,random_state=0)"
      ],
      "metadata": {
        "id": "e1m2VmCrxgSJ"
      },
      "execution_count": null,
      "outputs": []
    },
    {
      "cell_type": "code",
      "source": [
        "model=LinearRegression()\n",
        "model.fit(X_train,y_train)\n",
        "print(\"Linear Regression Training Accuracy:\", model.score(X_train,y_train))\n",
        "print(\"Linear Regression Testing Accuracy:\", model.score(X_test,y_test))"
      ],
      "metadata": {
        "colab": {
          "base_uri": "https://localhost:8080/"
        },
        "id": "_m-Cbtcnxp8y",
        "outputId": "bcb4a4d6-55b2-4808-9c58-5b09300a26ea"
      },
      "execution_count": null,
      "outputs": [
        {
          "output_type": "stream",
          "name": "stdout",
          "text": [
            "Linear Regression Training Accuracy: 0.7351320699699828\n",
            "Linear Regression Testing Accuracy: 0.7161099542795377\n"
          ]
        }
      ]
    },
    {
      "cell_type": "code",
      "source": [
        "model=RandomForestRegressor()\n",
        "model.fit(X_train,y_train)\n",
        "print(\"Random Forest Training Accuracy:\", model.score(X_train,y_train))\n",
        "print(\"Random Forest Testing Accuracy:\", model.score(X_test,y_test))"
      ],
      "metadata": {
        "colab": {
          "base_uri": "https://localhost:8080/"
        },
        "id": "gILkousayFOc",
        "outputId": "8e13b317-7828-4d86-8976-85c130d1f8ac"
      },
      "execution_count": null,
      "outputs": [
        {
          "output_type": "stream",
          "name": "stdout",
          "text": [
            "Random Forest Training Accuracy: 0.87109465757927\n",
            "Random Forest Testing Accuracy: 0.7357114367685559\n"
          ]
        }
      ]
    },
    {
      "cell_type": "code",
      "source": [
        "model=DecisionTreeRegressor()\n",
        "model.fit(X_train,y_train)\n",
        "print(\"Decision Tree Training Accuracy:\", model.score(X_train,y_train))\n",
        "print(\"Decision Tree Testing Accuracy:\", model.score(X_test,y_test))"
      ],
      "metadata": {
        "colab": {
          "base_uri": "https://localhost:8080/"
        },
        "id": "4UKRwsvXyNzK",
        "outputId": "53bf6612-451f-4da7-c53b-012078f86dd8"
      },
      "execution_count": null,
      "outputs": [
        {
          "output_type": "stream",
          "name": "stdout",
          "text": [
            "Decision Tree Training Accuracy: 0.8830985858952765\n",
            "Decision Tree Testing Accuracy: 0.6758202568435501\n"
          ]
        }
      ]
    },
    {
      "cell_type": "code",
      "source": [
        "model=GradientBoostingRegressor()\n",
        "model.fit(X_train,y_train)\n",
        "print(\"Gradient Boost Training Accuracy:\", model.score(X_train,y_train))\n",
        "print(\"Gradient Boost Testing Accuracy:\", model.score(X_test,y_test))"
      ],
      "metadata": {
        "colab": {
          "base_uri": "https://localhost:8080/"
        },
        "id": "GZ5itNeeyPGO",
        "outputId": "adc3b921-51f8-4a52-cbbd-eb465748c17c"
      },
      "execution_count": null,
      "outputs": [
        {
          "output_type": "stream",
          "name": "stdout",
          "text": [
            "Gradient Boost Training Accuracy: 0.7788386511916461\n",
            "Gradient Boost Testing Accuracy: 0.7559757697770955\n"
          ]
        }
      ]
    },
    {
      "cell_type": "code",
      "source": [
        "def evaluate(model):\n",
        "    model.fit(X_train,y_train)\n",
        "    pred = model.predict(X_test)\n",
        "    print('MAE:', mean_absolute_error(y_test, pred))\n",
        "    print('RMSE:', np.sqrt(mean_squared_error(y_test, pred)))\n",
        "    print('R2 Score:', r2_score(y_test, pred))"
      ],
      "metadata": {
        "id": "WK6NRrtcyoun"
      },
      "execution_count": null,
      "outputs": []
    },
    {
      "cell_type": "code",
      "source": [
        "evaluate(LinearRegression())"
      ],
      "metadata": {
        "colab": {
          "base_uri": "https://localhost:8080/"
        },
        "id": "9H6EyqX-yqDc",
        "outputId": "679c2c0c-576c-4a6a-f648-309da910ff1f"
      },
      "execution_count": null,
      "outputs": [
        {
          "output_type": "stream",
          "name": "stdout",
          "text": [
            "MAE: 0.2656830997933652\n",
            "RMSE: 0.3564459301812312\n",
            "R2 Score: 0.7161099542795377\n"
          ]
        }
      ]
    },
    {
      "cell_type": "code",
      "source": [
        "evaluate(RandomForestRegressor())"
      ],
      "metadata": {
        "colab": {
          "base_uri": "https://localhost:8080/"
        },
        "id": "aXFzRqRYyxCb",
        "outputId": "f610999a-85a1-4266-81d9-c948065c8f59"
      },
      "execution_count": null,
      "outputs": [
        {
          "output_type": "stream",
          "name": "stdout",
          "text": [
            "MAE: 0.2501182757577712\n",
            "RMSE: 0.34297029593179146\n",
            "R2 Score: 0.7371694400536826\n"
          ]
        }
      ]
    },
    {
      "cell_type": "code",
      "source": [
        "evaluate(DecisionTreeRegressor())"
      ],
      "metadata": {
        "colab": {
          "base_uri": "https://localhost:8080/"
        },
        "id": "iFl35Rtay1Yw",
        "outputId": "f56cac94-5faa-4fed-cbc5-af0320c811a9"
      },
      "execution_count": null,
      "outputs": [
        {
          "output_type": "stream",
          "name": "stdout",
          "text": [
            "MAE: 0.26810029207873826\n",
            "RMSE: 0.37744245471799975\n",
            "R2 Score: 0.6816796966789628\n"
          ]
        }
      ]
    },
    {
      "cell_type": "code",
      "source": [
        "evaluate(GradientBoostingRegressor())"
      ],
      "metadata": {
        "colab": {
          "base_uri": "https://localhost:8080/"
        },
        "id": "vhYkmE9Ay26W",
        "outputId": "4d822f42-4282-4cd0-91e2-3105fb90c4df"
      },
      "execution_count": null,
      "outputs": [
        {
          "output_type": "stream",
          "name": "stdout",
          "text": [
            "MAE: 0.2453964352393534\n",
            "RMSE: 0.3305682585496696\n",
            "R2 Score: 0.7558340251625538\n"
          ]
        }
      ]
    },
    {
      "cell_type": "code",
      "source": [
        "feature_importances=pd.DataFrame(model.feature_importances_,index=X_train.columns,columns=['importance']).sort_values('importance')\n",
        "feature_importances"
      ],
      "metadata": {
        "colab": {
          "base_uri": "https://localhost:8080/",
          "height": 300
        },
        "id": "t-9f1zvC0L8w",
        "outputId": "1d9f24ca-16a6-44a8-dd4a-a0a833edb63e"
      },
      "execution_count": null,
      "outputs": [
        {
          "output_type": "execute_result",
          "data": {
            "text/plain": [
              "               importance\n",
              "city             0.003413\n",
              "layout_type      0.003601\n",
              "furnish_type     0.017505\n",
              "property_type    0.024889\n",
              "bathroom         0.060054\n",
              "seller_type      0.061432\n",
              "bedroom          0.210260\n",
              "area             0.618846"
            ],
            "text/html": [
              "\n",
              "  <div id=\"df-db4a4628-60ff-438c-af18-f1aeae6215b2\">\n",
              "    <div class=\"colab-df-container\">\n",
              "      <div>\n",
              "<style scoped>\n",
              "    .dataframe tbody tr th:only-of-type {\n",
              "        vertical-align: middle;\n",
              "    }\n",
              "\n",
              "    .dataframe tbody tr th {\n",
              "        vertical-align: top;\n",
              "    }\n",
              "\n",
              "    .dataframe thead th {\n",
              "        text-align: right;\n",
              "    }\n",
              "</style>\n",
              "<table border=\"1\" class=\"dataframe\">\n",
              "  <thead>\n",
              "    <tr style=\"text-align: right;\">\n",
              "      <th></th>\n",
              "      <th>importance</th>\n",
              "    </tr>\n",
              "  </thead>\n",
              "  <tbody>\n",
              "    <tr>\n",
              "      <th>city</th>\n",
              "      <td>0.003413</td>\n",
              "    </tr>\n",
              "    <tr>\n",
              "      <th>layout_type</th>\n",
              "      <td>0.003601</td>\n",
              "    </tr>\n",
              "    <tr>\n",
              "      <th>furnish_type</th>\n",
              "      <td>0.017505</td>\n",
              "    </tr>\n",
              "    <tr>\n",
              "      <th>property_type</th>\n",
              "      <td>0.024889</td>\n",
              "    </tr>\n",
              "    <tr>\n",
              "      <th>bathroom</th>\n",
              "      <td>0.060054</td>\n",
              "    </tr>\n",
              "    <tr>\n",
              "      <th>seller_type</th>\n",
              "      <td>0.061432</td>\n",
              "    </tr>\n",
              "    <tr>\n",
              "      <th>bedroom</th>\n",
              "      <td>0.210260</td>\n",
              "    </tr>\n",
              "    <tr>\n",
              "      <th>area</th>\n",
              "      <td>0.618846</td>\n",
              "    </tr>\n",
              "  </tbody>\n",
              "</table>\n",
              "</div>\n",
              "      <button class=\"colab-df-convert\" onclick=\"convertToInteractive('df-db4a4628-60ff-438c-af18-f1aeae6215b2')\"\n",
              "              title=\"Convert this dataframe to an interactive table.\"\n",
              "              style=\"display:none;\">\n",
              "        \n",
              "  <svg xmlns=\"http://www.w3.org/2000/svg\" height=\"24px\"viewBox=\"0 0 24 24\"\n",
              "       width=\"24px\">\n",
              "    <path d=\"M0 0h24v24H0V0z\" fill=\"none\"/>\n",
              "    <path d=\"M18.56 5.44l.94 2.06.94-2.06 2.06-.94-2.06-.94-.94-2.06-.94 2.06-2.06.94zm-11 1L8.5 8.5l.94-2.06 2.06-.94-2.06-.94L8.5 2.5l-.94 2.06-2.06.94zm10 10l.94 2.06.94-2.06 2.06-.94-2.06-.94-.94-2.06-.94 2.06-2.06.94z\"/><path d=\"M17.41 7.96l-1.37-1.37c-.4-.4-.92-.59-1.43-.59-.52 0-1.04.2-1.43.59L10.3 9.45l-7.72 7.72c-.78.78-.78 2.05 0 2.83L4 21.41c.39.39.9.59 1.41.59.51 0 1.02-.2 1.41-.59l7.78-7.78 2.81-2.81c.8-.78.8-2.07 0-2.86zM5.41 20L4 18.59l7.72-7.72 1.47 1.35L5.41 20z\"/>\n",
              "  </svg>\n",
              "      </button>\n",
              "      \n",
              "  <style>\n",
              "    .colab-df-container {\n",
              "      display:flex;\n",
              "      flex-wrap:wrap;\n",
              "      gap: 12px;\n",
              "    }\n",
              "\n",
              "    .colab-df-convert {\n",
              "      background-color: #E8F0FE;\n",
              "      border: none;\n",
              "      border-radius: 50%;\n",
              "      cursor: pointer;\n",
              "      display: none;\n",
              "      fill: #1967D2;\n",
              "      height: 32px;\n",
              "      padding: 0 0 0 0;\n",
              "      width: 32px;\n",
              "    }\n",
              "\n",
              "    .colab-df-convert:hover {\n",
              "      background-color: #E2EBFA;\n",
              "      box-shadow: 0px 1px 2px rgba(60, 64, 67, 0.3), 0px 1px 3px 1px rgba(60, 64, 67, 0.15);\n",
              "      fill: #174EA6;\n",
              "    }\n",
              "\n",
              "    [theme=dark] .colab-df-convert {\n",
              "      background-color: #3B4455;\n",
              "      fill: #D2E3FC;\n",
              "    }\n",
              "\n",
              "    [theme=dark] .colab-df-convert:hover {\n",
              "      background-color: #434B5C;\n",
              "      box-shadow: 0px 1px 3px 1px rgba(0, 0, 0, 0.15);\n",
              "      filter: drop-shadow(0px 1px 2px rgba(0, 0, 0, 0.3));\n",
              "      fill: #FFFFFF;\n",
              "    }\n",
              "  </style>\n",
              "\n",
              "      <script>\n",
              "        const buttonEl =\n",
              "          document.querySelector('#df-db4a4628-60ff-438c-af18-f1aeae6215b2 button.colab-df-convert');\n",
              "        buttonEl.style.display =\n",
              "          google.colab.kernel.accessAllowed ? 'block' : 'none';\n",
              "\n",
              "        async function convertToInteractive(key) {\n",
              "          const element = document.querySelector('#df-db4a4628-60ff-438c-af18-f1aeae6215b2');\n",
              "          const dataTable =\n",
              "            await google.colab.kernel.invokeFunction('convertToInteractive',\n",
              "                                                     [key], {});\n",
              "          if (!dataTable) return;\n",
              "\n",
              "          const docLinkHtml = 'Like what you see? Visit the ' +\n",
              "            '<a target=\"_blank\" href=https://colab.research.google.com/notebooks/data_table.ipynb>data table notebook</a>'\n",
              "            + ' to learn more about interactive tables.';\n",
              "          element.innerHTML = '';\n",
              "          dataTable['output_type'] = 'display_data';\n",
              "          await google.colab.output.renderOutput(dataTable, element);\n",
              "          const docLink = document.createElement('div');\n",
              "          docLink.innerHTML = docLinkHtml;\n",
              "          element.appendChild(docLink);\n",
              "        }\n",
              "      </script>\n",
              "    </div>\n",
              "  </div>\n",
              "  "
            ]
          },
          "metadata": {},
          "execution_count": 28
        }
      ]
    },
    {
      "cell_type": "code",
      "source": [
        "X = pd.DataFrame(df,columns=['area','bedroom','seller_type','property_type','furnish_type'])\n",
        "y = df['price']"
      ],
      "metadata": {
        "id": "LECUR1x44lHv"
      },
      "execution_count": null,
      "outputs": []
    },
    {
      "cell_type": "code",
      "source": [
        "from sklearn.model_selection import train_test_split\n",
        "X_train, X_test, y_train, y_test = train_test_split(X, y, test_size=0.20)"
      ],
      "metadata": {
        "id": "ynQ3OVWw4rmK"
      },
      "execution_count": null,
      "outputs": []
    },
    {
      "cell_type": "code",
      "source": [
        "model=LinearRegression()\n",
        "model.fit(X_train,y_train)\n",
        "print(\"Linear Regression Training Accuracy:\", model.score(X_train,y_train))\n",
        "print(\"Linear Regression Testing Accuracy:\", model.score(X_test,y_test))"
      ],
      "metadata": {
        "colab": {
          "base_uri": "https://localhost:8080/"
        },
        "id": "ynGGiwnxseVF",
        "outputId": "4a885dc4-c94b-40df-ef4f-b90c3931b4a5"
      },
      "execution_count": null,
      "outputs": [
        {
          "output_type": "stream",
          "name": "stdout",
          "text": [
            "Linear Regression Training Accuracy: 0.725275870658828\n",
            "Linear Regression Testing Accuracy: 0.7186567988847445\n"
          ]
        }
      ]
    },
    {
      "cell_type": "code",
      "source": [
        "m=model.predict(X_test)"
      ],
      "metadata": {
        "id": "F3Eck6GWq0KD"
      },
      "execution_count": null,
      "outputs": []
    },
    {
      "cell_type": "code",
      "source": [
        "plt.hist(y_test,bins=30,alpha=0.5,color='yellow')\n",
        "plt.hist(m,bins=30,alpha=0.5,color='black')"
      ],
      "metadata": {
        "colab": {
          "base_uri": "https://localhost:8080/",
          "height": 464
        },
        "id": "zB9vuXhhjmKb",
        "outputId": "025d29af-8b32-414a-de8a-fadcd9f8edd3"
      },
      "execution_count": null,
      "outputs": [
        {
          "output_type": "execute_result",
          "data": {
            "text/plain": [
              "(array([ 11.,  13.,  20.,  42., 109., 200., 251., 355., 477., 493., 384.,\n",
              "        422., 440., 179., 311., 140.,  69.,  31.,  27.,  26.,  11.,   8.,\n",
              "          9.,   2.,   0.,   1.,   1.,   0.,   1.,   1.]),\n",
              " array([ 8.0756978 ,  8.23717811,  8.39865843,  8.56013875,  8.72161906,\n",
              "         8.88309938,  9.0445797 ,  9.20606001,  9.36754033,  9.52902065,\n",
              "         9.69050096,  9.85198128, 10.0134616 , 10.17494191, 10.33642223,\n",
              "        10.49790255, 10.65938286, 10.82086318, 10.9823435 , 11.14382381,\n",
              "        11.30530413, 11.46678445, 11.62826476, 11.78974508, 11.9512254 ,\n",
              "        12.11270571, 12.27418603, 12.43566635, 12.59714666, 12.75862698,\n",
              "        12.9201073 ]),\n",
              " <a list of 30 Patch objects>)"
            ]
          },
          "metadata": {},
          "execution_count": 100
        },
        {
          "output_type": "display_data",
          "data": {
            "text/plain": [
              "<Figure size 432x288 with 1 Axes>"
            ],
            "image/png": "[encoded data removed]"
          },
          "metadata": {
            "needs_background": "light"
          }
        }
      ]
    },
    {
      "cell_type": "code",
      "source": [
        "model=RandomForestRegressor()\n",
        "model.fit(X_train,y_train)\n",
        "print(\"Random Forest Training Accuracy:\", model.score(X_train,y_train))\n",
        "print(\"Random Forest Testing Accuracy:\", model.score(X_test,y_test))"
      ],
      "metadata": {
        "colab": {
          "base_uri": "https://localhost:8080/"
        },
        "id": "Pp8ik7Mhsh-P",
        "outputId": "07c74002-8a2e-43b0-b108-e0a523841a29"
      },
      "execution_count": null,
      "outputs": [
        {
          "output_type": "stream",
          "name": "stdout",
          "text": [
            "Random Forest Training Accuracy: 0.8416002316435944\n",
            "Random Forest Testing Accuracy: 0.739887228510564\n"
          ]
        }
      ]
    },
    {
      "cell_type": "code",
      "source": [
        "m=model.predict(X_test)\n",
        "kwargs=dict(bins=30,alpha=0.5)"
      ],
      "metadata": {
        "id": "k12XWhBCl5sU"
      },
      "execution_count": null,
      "outputs": []
    },
    {
      "cell_type": "code",
      "source": [
        "plt.hist(y_test,color='yellow',**kwargs)\n",
        "plt.hist(m,color='black',**kwargs)"
      ],
      "metadata": {
        "colab": {
          "base_uri": "https://localhost:8080/",
          "height": 464
        },
        "id": "zqYPp1eYoWhR",
        "outputId": "9e7a2e18-7e09-4df3-ec26-a5f183056381"
      },
      "execution_count": null,
      "outputs": [
        {
          "output_type": "execute_result",
          "data": {
            "text/plain": [
              "(array([  1.,   3.,   2.,  11.,  60., 120., 232., 307., 445., 546., 431.,\n",
              "        410., 503., 254., 234., 165., 100.,  62.,  31.,  34.,  20.,  24.,\n",
              "         10.,   6.,   3.,   3.,   8.,   3.,   3.,   3.]),\n",
              " array([ 7.90945197,  8.07603436,  8.24261675,  8.40919915,  8.57578154,\n",
              "         8.74236393,  8.90894632,  9.07552871,  9.24211111,  9.4086935 ,\n",
              "         9.57527589,  9.74185828,  9.90844067, 10.07502307, 10.24160546,\n",
              "        10.40818785, 10.57477024, 10.74135263, 10.90793503, 11.07451742,\n",
              "        11.24109981, 11.4076822 , 11.57426459, 11.74084699, 11.90742938,\n",
              "        12.07401177, 12.24059416, 12.40717655, 12.57375895, 12.74034134,\n",
              "        12.90692373]),\n",
              " <a list of 30 Patch objects>)"
            ]
          },
          "metadata": {},
          "execution_count": 80
        },
        {
          "output_type": "display_data",
          "data": {
            "text/plain": [
              "<Figure size 432x288 with 1 Axes>"
            ],
            "image/png": "[encoded data removed]"
          },
          "metadata": {
            "needs_background": "light"
          }
        }
      ]
    },
    {
      "cell_type": "code",
      "source": [
        "model=DecisionTreeRegressor()\n",
        "model.fit(X_train,y_train)\n",
        "print(\"Decision Tree Training Accuracy:\", model.score(X_train,y_train))\n",
        "print(\"Decision Tree Testing Accuracy:\", model.score(X_test,y_test))"
      ],
      "metadata": {
        "colab": {
          "base_uri": "https://localhost:8080/"
        },
        "id": "ROGzPUykslHm",
        "outputId": "c2859def-7c99-4f84-94b9-5a40c80afa13"
      },
      "execution_count": null,
      "outputs": [
        {
          "output_type": "stream",
          "name": "stdout",
          "text": [
            "Decision Tree Training Accuracy: 0.8500015942636275\n",
            "Decision Tree Testing Accuracy: 0.7077047189529059\n"
          ]
        }
      ]
    },
    {
      "cell_type": "code",
      "source": [
        "m=model.predict(X_test)"
      ],
      "metadata": {
        "id": "Sex0F6p7pPH6"
      },
      "execution_count": null,
      "outputs": []
    },
    {
      "cell_type": "code",
      "source": [
        "kwargs=dict(bins=30,alpha=0.5)\n",
        "plt.hist(y_test,color='yellow',**kwargs)\n",
        "plt.hist(m,color='black',**kwargs)"
      ],
      "metadata": {
        "colab": {
          "base_uri": "https://localhost:8080/",
          "height": 464
        },
        "id": "s_cY4uGzpVJM",
        "outputId": "a96d1c67-92a1-461a-a04e-eb848617b332"
      },
      "execution_count": null,
      "outputs": [
        {
          "output_type": "execute_result",
          "data": {
            "text/plain": [
              "(array([  1.,   0.,   0.,   0.,   5.,   5.,  28.,  98., 292., 343., 540.,\n",
              "        625., 402., 620., 299., 299., 193.,  76.,  73.,  49.,  25.,  19.,\n",
              "         13.,   6.,   5.,   5.,   5.,   4.,   2.,   2.]),\n",
              " array([ 7.31322039,  7.50685849,  7.70049659,  7.89413469,  8.08777279,\n",
              "         8.28141089,  8.47504899,  8.66868708,  8.86232518,  9.05596328,\n",
              "         9.24960138,  9.44323948,  9.63687758,  9.83051568, 10.02415378,\n",
              "        10.21779188, 10.41142998, 10.60506808, 10.79870618, 10.99234428,\n",
              "        11.18598238, 11.37962048, 11.57325858, 11.76689668, 11.96053478,\n",
              "        12.15417288, 12.34781098, 12.54144908, 12.73508718, 12.92872528,\n",
              "        13.12236338]),\n",
              " <a list of 30 Patch objects>)"
            ]
          },
          "metadata": {},
          "execution_count": 84
        },
        {
          "output_type": "display_data",
          "data": {
            "text/plain": [
              "<Figure size 432x288 with 1 Axes>"
            ],
            "image/png": "[encoded data removed]"
          },
          "metadata": {
            "needs_background": "light"
          }
        }
      ]
    },
    {
      "cell_type": "code",
      "source": [
        "model=GradientBoostingRegressor()\n",
        "model.fit(X_train,y_train)\n",
        "print(\"Gradient Boost Training Accuracy:\", model.score(X_train,y_train))\n",
        "print(\"Gradient Boost Testing Accuracy:\", model.score(X_test,y_test))"
      ],
      "metadata": {
        "colab": {
          "base_uri": "https://localhost:8080/"
        },
        "id": "Dkh0QJl-5nY8",
        "outputId": "c18c417c-fbff-4363-dd9d-5f0f1b6c6e33"
      },
      "execution_count": null,
      "outputs": [
        {
          "output_type": "stream",
          "name": "stdout",
          "text": [
            "Gradient Boost Training Accuracy: 0.7744409352510925\n",
            "Gradient Boost Testing Accuracy: 0.7557832285740123\n"
          ]
        }
      ]
    },
    {
      "cell_type": "code",
      "source": [
        "m=model.predict(X_test)\n",
        "kwargs=dict(bins=30,alpha=0.5)"
      ],
      "metadata": {
        "id": "63QGvoeTphIC"
      },
      "execution_count": null,
      "outputs": []
    },
    {
      "cell_type": "code",
      "source": [
        "plt.hist(y_test,color='yellow',**kwargs)\n",
        "plt.hist(m,color='black',**kwargs)"
      ],
      "metadata": {
        "colab": {
          "base_uri": "https://localhost:8080/",
          "height": 464
        },
        "id": "5HPJBkqypnZ5",
        "outputId": "ee569e1c-2db0-4c5e-ccd2-8f6146df514e"
      },
      "execution_count": null,
      "outputs": [
        {
          "output_type": "execute_result",
          "data": {
            "text/plain": [
              "(array([  3.,   9.,  18.,  54., 139., 219., 294., 401., 528., 380., 333.,\n",
              "        361., 415., 252., 186., 118., 106.,  39.,  39.,  38.,  20.,  22.,\n",
              "         12.,  23.,   5.,   1.,   1.,   1.,  10.,   7.]),\n",
              " array([ 8.24804375,  8.39152392,  8.53500409,  8.67848426,  8.82196443,\n",
              "         8.9654446 ,  9.10892478,  9.25240495,  9.39588512,  9.53936529,\n",
              "         9.68284546,  9.82632564,  9.96980581, 10.11328598, 10.25676615,\n",
              "        10.40024632, 10.5437265 , 10.68720667, 10.83068684, 10.97416701,\n",
              "        11.11764718, 11.26112735, 11.40460753, 11.5480877 , 11.69156787,\n",
              "        11.83504804, 11.97852821, 12.12200839, 12.26548856, 12.40896873,\n",
              "        12.5524489 ]),\n",
              " <a list of 30 Patch objects>)"
            ]
          },
          "metadata": {},
          "execution_count": 87
        },
        {
          "output_type": "display_data",
          "data": {
            "text/plain": [
              "<Figure size 432x288 with 1 Axes>"
            ],
            "image/png": "[encoded data removed]"
          },
          "metadata": {
            "needs_background": "light"
          }
        }
      ]
    },
    {
      "cell_type": "code",
      "source": [
        "evaluate(LinearRegression())"
      ],
      "metadata": {
        "colab": {
          "base_uri": "https://localhost:8080/"
        },
        "id": "TgxFiE1Dsrr7",
        "outputId": "b03258b3-630b-40fb-a732-776f9acde07c"
      },
      "execution_count": null,
      "outputs": [
        {
          "output_type": "stream",
          "name": "stdout",
          "text": [
            "MAE: 0.2622711286152983\n",
            "RMSE: 0.35171602801478496\n",
            "R2 Score: 0.7186567988847445\n"
          ]
        }
      ]
    },
    {
      "cell_type": "code",
      "source": [
        "evaluate(RandomForestRegressor())"
      ],
      "metadata": {
        "colab": {
          "base_uri": "https://localhost:8080/"
        },
        "id": "0rIZIkrhspDx",
        "outputId": "509fd159-a8f4-4e61-8e98-8becf75fdf01"
      },
      "execution_count": null,
      "outputs": [
        {
          "output_type": "stream",
          "name": "stdout",
          "text": [
            "MAE: 0.2485954634961946\n",
            "RMSE: 0.3380113878030018\n",
            "R2 Score: 0.740154757975442\n"
          ]
        }
      ]
    },
    {
      "cell_type": "code",
      "source": [
        "evaluate(DecisionTreeRegressor())"
      ],
      "metadata": {
        "colab": {
          "base_uri": "https://localhost:8080/"
        },
        "id": "DkQ5FQUasuxo",
        "outputId": "14376e6e-052b-4225-ef68-c83da5281288"
      },
      "execution_count": null,
      "outputs": [
        {
          "output_type": "stream",
          "name": "stdout",
          "text": [
            "MAE: 0.2597731315862632\n",
            "RMSE: 0.35717989302929626\n",
            "R2 Score: 0.7098476379624388\n"
          ]
        }
      ]
    },
    {
      "cell_type": "code",
      "source": [
        "evaluate(GradientBoostingRegressor())"
      ],
      "metadata": {
        "colab": {
          "base_uri": "https://localhost:8080/"
        },
        "id": "XG0D2eRd7crj",
        "outputId": "16126f0d-56f8-4c9d-8c02-87d75142c7be"
      },
      "execution_count": null,
      "outputs": [
        {
          "output_type": "stream",
          "name": "stdout",
          "text": [
            "MAE: 0.24293004885609892\n",
            "RMSE: 0.3276807514725634\n",
            "R2 Score: 0.7557953290682455\n"
          ]
        }
      ]
    }
  ]
}